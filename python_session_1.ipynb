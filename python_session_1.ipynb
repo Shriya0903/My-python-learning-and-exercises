{
 "cells": [
  {
   "cell_type": "markdown",
   "id": "32039809",
   "metadata": {},
   "source": [
    "# first python class"
   ]
  },
  {
   "cell_type": "markdown",
   "id": "6b5e20a4",
   "metadata": {},
   "source": [
    "we studied basis of python particularly datastructures\n",
    "below are some of the examples of integer, float and strings."
   ]
  },
  {
   "cell_type": "code",
   "execution_count": 5,
   "id": "ff4d3bde",
   "metadata": {},
   "outputs": [],
   "source": [
    "b=12"
   ]
  },
  {
   "cell_type": "code",
   "execution_count": 6,
   "id": "7bd45bba",
   "metadata": {},
   "outputs": [
    {
     "data": {
      "text/plain": [
       "12"
      ]
     },
     "execution_count": 6,
     "metadata": {},
     "output_type": "execute_result"
    }
   ],
   "source": [
    "b"
   ]
  },
  {
   "cell_type": "code",
   "execution_count": 11,
   "id": "3a0628c8",
   "metadata": {},
   "outputs": [],
   "source": [
    "c=19.5"
   ]
  },
  {
   "cell_type": "code",
   "execution_count": 9,
   "id": "b78b1360",
   "metadata": {},
   "outputs": [
    {
     "data": {
      "text/plain": [
       "19"
      ]
     },
     "execution_count": 9,
     "metadata": {},
     "output_type": "execute_result"
    }
   ],
   "source": [
    "c"
   ]
  },
  {
   "cell_type": "code",
   "execution_count": 12,
   "id": "a5524956",
   "metadata": {},
   "outputs": [
    {
     "data": {
      "text/plain": [
       "float"
      ]
     },
     "execution_count": 12,
     "metadata": {},
     "output_type": "execute_result"
    }
   ],
   "source": [
    "type(c)"
   ]
  },
  {
   "cell_type": "code",
   "execution_count": 16,
   "id": "dce2946e",
   "metadata": {},
   "outputs": [],
   "source": [
    "d=\"shriya\""
   ]
  },
  {
   "cell_type": "code",
   "execution_count": 17,
   "id": "0a9c3646",
   "metadata": {},
   "outputs": [
    {
     "data": {
      "text/plain": [
       "'shriya'"
      ]
     },
     "execution_count": 17,
     "metadata": {},
     "output_type": "execute_result"
    }
   ],
   "source": [
    "d"
   ]
  },
  {
   "cell_type": "code",
   "execution_count": 18,
   "id": "13a803ae",
   "metadata": {},
   "outputs": [
    {
     "data": {
      "text/plain": [
       "str"
      ]
     },
     "execution_count": 18,
     "metadata": {},
     "output_type": "execute_result"
    }
   ],
   "source": [
    "type(d)"
   ]
  },
  {
   "cell_type": "code",
   "execution_count": 19,
   "id": "35ebd7bc",
   "metadata": {},
   "outputs": [],
   "source": [
    "e='test shriya'"
   ]
  },
  {
   "cell_type": "code",
   "execution_count": 20,
   "id": "6f24a8a6",
   "metadata": {},
   "outputs": [
    {
     "name": "stdout",
     "output_type": "stream",
     "text": [
      "test shriya\n"
     ]
    }
   ],
   "source": [
    "print(e)"
   ]
  },
  {
   "cell_type": "code",
   "execution_count": 21,
   "id": "a1470d55",
   "metadata": {},
   "outputs": [],
   "source": [
    "f=\"Sarah's cat loves to chase butterflies in the garden\""
   ]
  },
  {
   "cell_type": "code",
   "execution_count": 22,
   "id": "b6724788",
   "metadata": {},
   "outputs": [
    {
     "name": "stdout",
     "output_type": "stream",
     "text": [
      "Sarah's cat loves to chase butterflies in the garden\n"
     ]
    }
   ],
   "source": [
    "print(f)"
   ]
  },
  {
   "cell_type": "code",
   "execution_count": 23,
   "id": "878be9c8",
   "metadata": {},
   "outputs": [
    {
     "data": {
      "text/plain": [
       "'a'"
      ]
     },
     "execution_count": 23,
     "metadata": {},
     "output_type": "execute_result"
    }
   ],
   "source": [
    "f[1]"
   ]
  },
  {
   "cell_type": "code",
   "execution_count": 24,
   "id": "62ed27d9",
   "metadata": {},
   "outputs": [
    {
     "data": {
      "text/plain": [
       "'S'"
      ]
     },
     "execution_count": 24,
     "metadata": {},
     "output_type": "execute_result"
    }
   ],
   "source": [
    "f[0]"
   ]
  },
  {
   "cell_type": "code",
   "execution_count": 25,
   "id": "fbf54ddf",
   "metadata": {},
   "outputs": [
    {
     "data": {
      "text/plain": [
       "'r'"
      ]
     },
     "execution_count": 25,
     "metadata": {},
     "output_type": "execute_result"
    }
   ],
   "source": [
    "f[2]"
   ]
  },
  {
   "cell_type": "code",
   "execution_count": 26,
   "id": "2334667d",
   "metadata": {},
   "outputs": [
    {
     "data": {
      "text/plain": [
       "'a'"
      ]
     },
     "execution_count": 26,
     "metadata": {},
     "output_type": "execute_result"
    }
   ],
   "source": [
    "f[3]"
   ]
  },
  {
   "cell_type": "code",
   "execution_count": 29,
   "id": "61d7de54",
   "metadata": {},
   "outputs": [
    {
     "data": {
      "text/plain": [
       "\"Sarah's\""
      ]
     },
     "execution_count": 29,
     "metadata": {},
     "output_type": "execute_result"
    }
   ],
   "source": [
    "f[0:7]"
   ]
  },
  {
   "cell_type": "code",
   "execution_count": 31,
   "id": "525ac0e1",
   "metadata": {},
   "outputs": [],
   "source": [
    "k=f.upper()"
   ]
  },
  {
   "cell_type": "code",
   "execution_count": 32,
   "id": "37e5dab6",
   "metadata": {},
   "outputs": [
    {
     "data": {
      "text/plain": [
       "\"SARAH'S CAT LOVES TO CHASE BUTTERFLIES IN THE GARDEN\""
      ]
     },
     "execution_count": 32,
     "metadata": {},
     "output_type": "execute_result"
    }
   ],
   "source": [
    "k"
   ]
  },
  {
   "cell_type": "code",
   "execution_count": 33,
   "id": "17b5d904",
   "metadata": {},
   "outputs": [
    {
     "data": {
      "text/plain": [
       "\"sarah's cat loves to chase butterflies in the garden\""
      ]
     },
     "execution_count": 33,
     "metadata": {},
     "output_type": "execute_result"
    }
   ],
   "source": [
    "k.lower()"
   ]
  },
  {
   "cell_type": "code",
   "execution_count": 34,
   "id": "cfc9ae43",
   "metadata": {},
   "outputs": [
    {
     "data": {
      "text/plain": [
       "\"Sarah's cat loves to chase butterflies in the garden\""
      ]
     },
     "execution_count": 34,
     "metadata": {},
     "output_type": "execute_result"
    }
   ],
   "source": [
    "k.capitalize()"
   ]
  },
  {
   "cell_type": "code",
   "execution_count": 35,
   "id": "7351ef67",
   "metadata": {},
   "outputs": [],
   "source": [
    "name='shriya'"
   ]
  },
  {
   "cell_type": "code",
   "execution_count": 36,
   "id": "4f7a3398",
   "metadata": {},
   "outputs": [
    {
     "data": {
      "text/plain": [
       "'y'"
      ]
     },
     "execution_count": 36,
     "metadata": {},
     "output_type": "execute_result"
    }
   ],
   "source": [
    "name[-2]"
   ]
  },
  {
   "cell_type": "code",
   "execution_count": 37,
   "id": "c3d5cff2",
   "metadata": {},
   "outputs": [
    {
     "data": {
      "text/plain": [
       "'a'"
      ]
     },
     "execution_count": 37,
     "metadata": {},
     "output_type": "execute_result"
    }
   ],
   "source": [
    "name[-1]"
   ]
  },
  {
   "cell_type": "code",
   "execution_count": 38,
   "id": "8278f504",
   "metadata": {},
   "outputs": [
    {
     "data": {
      "text/plain": [
       "'i'"
      ]
     },
     "execution_count": 38,
     "metadata": {},
     "output_type": "execute_result"
    }
   ],
   "source": [
    "name[-3]"
   ]
  },
  {
   "cell_type": "code",
   "execution_count": 39,
   "id": "0cf8aa5b",
   "metadata": {},
   "outputs": [
    {
     "data": {
      "text/plain": [
       "'sry'"
      ]
     },
     "execution_count": 39,
     "metadata": {},
     "output_type": "execute_result"
    }
   ],
   "source": [
    "name[0:6:2]"
   ]
  },
  {
   "cell_type": "code",
   "execution_count": 40,
   "id": "9ec1ca1f",
   "metadata": {},
   "outputs": [
    {
     "data": {
      "text/plain": [
       "'shriya'"
      ]
     },
     "execution_count": 40,
     "metadata": {},
     "output_type": "execute_result"
    }
   ],
   "source": [
    "name[0:6:1]"
   ]
  },
  {
   "cell_type": "code",
   "execution_count": 41,
   "id": "45d7ecda",
   "metadata": {},
   "outputs": [
    {
     "data": {
      "text/plain": [
       "'si'"
      ]
     },
     "execution_count": 41,
     "metadata": {},
     "output_type": "execute_result"
    }
   ],
   "source": [
    "name[0:6:3]"
   ]
  },
  {
   "cell_type": "code",
   "execution_count": 42,
   "id": "70d7e359",
   "metadata": {},
   "outputs": [],
   "source": [
    "j='aficionado'"
   ]
  },
  {
   "cell_type": "code",
   "execution_count": 43,
   "id": "9416327b",
   "metadata": {},
   "outputs": [
    {
     "data": {
      "text/plain": [
       "'a'"
      ]
     },
     "execution_count": 43,
     "metadata": {},
     "output_type": "execute_result"
    }
   ],
   "source": [
    "j[7]"
   ]
  },
  {
   "cell_type": "code",
   "execution_count": 44,
   "id": "e977603b",
   "metadata": {},
   "outputs": [
    {
     "data": {
      "text/plain": [
       "'aid'"
      ]
     },
     "execution_count": 44,
     "metadata": {},
     "output_type": "execute_result"
    }
   ],
   "source": [
    "j[0:11:4]"
   ]
  },
  {
   "cell_type": "code",
   "execution_count": 45,
   "id": "aa13f184",
   "metadata": {},
   "outputs": [
    {
     "data": {
      "text/plain": [
       "'ii'"
      ]
     },
     "execution_count": 45,
     "metadata": {},
     "output_type": "execute_result"
    }
   ],
   "source": [
    "j[2:5:2]"
   ]
  },
  {
   "cell_type": "code",
   "execution_count": 46,
   "id": "c4a5a69b",
   "metadata": {},
   "outputs": [
    {
     "data": {
      "text/plain": [
       "'oo'"
      ]
     },
     "execution_count": 46,
     "metadata": {},
     "output_type": "execute_result"
    }
   ],
   "source": [
    "j[5:10:4]"
   ]
  },
  {
   "cell_type": "code",
   "execution_count": null,
   "id": "44dcbe10",
   "metadata": {},
   "outputs": [],
   "source": [
    "g='shriya'"
   ]
  }
 ],
 "metadata": {
  "kernelspec": {
   "display_name": "Python 3 (ipykernel)",
   "language": "python",
   "name": "python3"
  },
  "language_info": {
   "codemirror_mode": {
    "name": "ipython",
    "version": 3
   },
   "file_extension": ".py",
   "mimetype": "text/x-python",
   "name": "python",
   "nbconvert_exporter": "python",
   "pygments_lexer": "ipython3",
   "version": "3.11.3"
  }
 },
 "nbformat": 4,
 "nbformat_minor": 5
}
