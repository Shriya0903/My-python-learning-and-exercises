{
 "cells": [
  {
   "cell_type": "markdown",
   "id": "0c53dc12",
   "metadata": {},
   "source": [
    "# Python session 4 - Dictionary"
   ]
  },
  {
   "cell_type": "markdown",
   "id": "72ffc90f",
   "metadata": {},
   "source": [
    "Dictionary:- Dictionary stores key-value pairs and its mutable i.e we can change its value through key.\n",
    "(Key must be unique and values can be duplicated.)"
   ]
  },
  {
   "cell_type": "code",
   "execution_count": 1,
   "id": "e21fc364",
   "metadata": {},
   "outputs": [],
   "source": [
    "b1={'tia':50,'minu':10000,'shriya':500} #this are some of the examples."
   ]
  },
  {
   "cell_type": "code",
   "execution_count": 2,
   "id": "c08b5b67",
   "metadata": {},
   "outputs": [
    {
     "data": {
      "text/plain": [
       "{'tia': 50, 'minu': 10000, 'shriya': 500}"
      ]
     },
     "execution_count": 2,
     "metadata": {},
     "output_type": "execute_result"
    }
   ],
   "source": [
    "b1"
   ]
  },
  {
   "cell_type": "code",
   "execution_count": 3,
   "id": "e55951af",
   "metadata": {},
   "outputs": [
    {
     "name": "stdout",
     "output_type": "stream",
     "text": [
      "{'tia': 50, 'minu': 10000, 'shriya': 500}\n"
     ]
    }
   ],
   "source": [
    "print(b1)"
   ]
  },
  {
   "cell_type": "code",
   "execution_count": 6,
   "id": "96afb96e",
   "metadata": {},
   "outputs": [
    {
     "data": {
      "text/plain": [
       "50"
      ]
     },
     "execution_count": 6,
     "metadata": {},
     "output_type": "execute_result"
    }
   ],
   "source": [
    "b1['tia'] #it gives the values to the key."
   ]
  },
  {
   "cell_type": "code",
   "execution_count": null,
   "id": "c0f80318",
   "metadata": {},
   "outputs": [],
   "source": [
    "# Let us see some common functions of dictionary"
   ]
  },
  {
   "cell_type": "code",
   "execution_count": 4,
   "id": "58fa6295",
   "metadata": {},
   "outputs": [
    {
     "data": {
      "text/plain": [
       "dict_keys(['tia', 'minu', 'shriya'])"
      ]
     },
     "execution_count": 4,
     "metadata": {},
     "output_type": "execute_result"
    }
   ],
   "source": [
    "b1.keys() #this function is used to return a new view object that contains a list of all the keys in the dictionary."
   ]
  },
  {
   "cell_type": "code",
   "execution_count": 8,
   "id": "5c34a5d6",
   "metadata": {},
   "outputs": [
    {
     "data": {
      "text/plain": [
       "dict_values([50, 10000, 500])"
      ]
     },
     "execution_count": 8,
     "metadata": {},
     "output_type": "execute_result"
    }
   ],
   "source": [
    "b1.values() #this function is used to return a new view object that contains a list of all the values associated with the keys in the dictionary."
   ]
  },
  {
   "cell_type": "code",
   "execution_count": 5,
   "id": "ed2d28b5",
   "metadata": {},
   "outputs": [],
   "source": [
    "dominos={'pizza':{'margherita':250,'maxican_grn_wv':499,'cheese burst':650},'fries':90,'soft_drinks':100}"
   ]
  },
  {
   "cell_type": "code",
   "execution_count": 6,
   "id": "8c100bf1",
   "metadata": {},
   "outputs": [
    {
     "data": {
      "text/plain": [
       "dict"
      ]
     },
     "execution_count": 6,
     "metadata": {},
     "output_type": "execute_result"
    }
   ],
   "source": [
    "type(dominos)"
   ]
  },
  {
   "cell_type": "code",
   "execution_count": 10,
   "id": "74bfc78a",
   "metadata": {},
   "outputs": [
    {
     "data": {
      "text/plain": [
       "{'pizza': {'margherita': 250, 'maxican_grn_wv': 499, 'cheese burst': 650},\n",
       " 'fries': 90,\n",
       " 'soft_drinks': 100}"
      ]
     },
     "execution_count": 10,
     "metadata": {},
     "output_type": "execute_result"
    }
   ],
   "source": [
    "dominos"
   ]
  },
  {
   "cell_type": "code",
   "execution_count": 12,
   "id": "3a7c8be5",
   "metadata": {},
   "outputs": [
    {
     "data": {
      "text/plain": [
       "250"
      ]
     },
     "execution_count": 12,
     "metadata": {},
     "output_type": "execute_result"
    }
   ],
   "source": [
    "dominos['pizza']['margherita']"
   ]
  },
  {
   "cell_type": "code",
   "execution_count": 13,
   "id": "fe52532f",
   "metadata": {},
   "outputs": [
    {
     "data": {
      "text/plain": [
       "{'pizza': {'margherita': 250, 'maxican_grn_wv': 499, 'cheese burst': 650},\n",
       " 'fries': 90,\n",
       " 'soft_drinks': 100}"
      ]
     },
     "execution_count": 13,
     "metadata": {},
     "output_type": "execute_result"
    }
   ],
   "source": [
    "dominos.copy() #this function is used to returns a copy of the specified dictionary."
   ]
  },
  {
   "cell_type": "code",
   "execution_count": 20,
   "id": "1b19c494",
   "metadata": {},
   "outputs": [
    {
     "data": {
      "text/plain": [
       "dict_items"
      ]
     },
     "execution_count": 20,
     "metadata": {},
     "output_type": "execute_result"
    }
   ],
   "source": [
    "type(a)"
   ]
  },
  {
   "cell_type": "code",
   "execution_count": 12,
   "id": "93781758",
   "metadata": {},
   "outputs": [],
   "source": [
    "t1=({'pizza':{'margherita':250,'maxican_grn_wv':499,'cheese burst':650},'fries':90,'soft_drinks':100},1)"
   ]
  },
  {
   "cell_type": "code",
   "execution_count": 35,
   "id": "43443e15",
   "metadata": {},
   "outputs": [
    {
     "data": {
      "text/plain": [
       "({'pizza': {'margherita': 250, 'maxican_grn_wv': 499, 'cheese burst': 650},\n",
       "  'fries': 90,\n",
       "  'soft_drinks': 100},\n",
       " 1)"
      ]
     },
     "execution_count": 35,
     "metadata": {},
     "output_type": "execute_result"
    }
   ],
   "source": [
    "t1 #converting a dictionary into a tuple."
   ]
  },
  {
   "cell_type": "code",
   "execution_count": 9,
   "id": "e1fd10b8",
   "metadata": {},
   "outputs": [
    {
     "data": {
      "text/plain": [
       "tuple"
      ]
     },
     "execution_count": 9,
     "metadata": {},
     "output_type": "execute_result"
    }
   ],
   "source": [
    "type(t1)"
   ]
  },
  {
   "cell_type": "code",
   "execution_count": 37,
   "id": "a4d3da29",
   "metadata": {},
   "outputs": [
    {
     "data": {
      "text/plain": [
       "{'pizza': {'margherita': 250, 'maxican_grn_wv': 499, 'cheese burst': 650},\n",
       " 'fries': 90,\n",
       " 'soft_drinks': 100}"
      ]
     },
     "execution_count": 37,
     "metadata": {},
     "output_type": "execute_result"
    }
   ],
   "source": [
    "t1[0]"
   ]
  },
  {
   "cell_type": "code",
   "execution_count": 57,
   "id": "ea76ea22",
   "metadata": {},
   "outputs": [],
   "source": [
    "t2={\"name\":\"shriya\", \"age\":21,\"height\":5.6 , \"gender\":\"female\"}"
   ]
  },
  {
   "cell_type": "code",
   "execution_count": 27,
   "id": "6db6d8f8",
   "metadata": {},
   "outputs": [
    {
     "data": {
      "text/plain": [
       "{'name': 'shriya', 'age': 21, 'height': 5.6, 'gender': 'female'}"
      ]
     },
     "execution_count": 27,
     "metadata": {},
     "output_type": "execute_result"
    }
   ],
   "source": [
    "t2"
   ]
  },
  {
   "cell_type": "code",
   "execution_count": 28,
   "id": "16c08d60",
   "metadata": {},
   "outputs": [
    {
     "data": {
      "text/plain": [
       "dict"
      ]
     },
     "execution_count": 28,
     "metadata": {},
     "output_type": "execute_result"
    }
   ],
   "source": [
    "type(t2)"
   ]
  },
  {
   "cell_type": "code",
   "execution_count": 30,
   "id": "fb72171d",
   "metadata": {},
   "outputs": [
    {
     "data": {
      "text/plain": [
       "'shriya'"
      ]
     },
     "execution_count": 30,
     "metadata": {},
     "output_type": "execute_result"
    }
   ],
   "source": [
    "t2.get(\"name\") #Return the value for key if key is in the dictionary."
   ]
  },
  {
   "cell_type": "code",
   "execution_count": 34,
   "id": "ddee91c1",
   "metadata": {},
   "outputs": [
    {
     "data": {
      "text/plain": [
       "dict_items([('name', 'shriya'), ('age', 21), ('height', 5.6), ('gender', 'female')])"
      ]
     },
     "execution_count": 34,
     "metadata": {},
     "output_type": "execute_result"
    }
   ],
   "source": [
    "t2.items() #this function is used to return each item in a dictionary as tuples ina a list."
   ]
  },
  {
   "cell_type": "code",
   "execution_count": 35,
   "id": "fb720014",
   "metadata": {},
   "outputs": [
    {
     "data": {
      "text/plain": [
       "dict_keys(['name', 'age', 'height', 'gender'])"
      ]
     },
     "execution_count": 35,
     "metadata": {},
     "output_type": "execute_result"
    }
   ],
   "source": [
    "t2.keys() #this function give us the view of all the dictionary keys that are present."
   ]
  },
  {
   "cell_type": "code",
   "execution_count": 36,
   "id": "88605452",
   "metadata": {},
   "outputs": [
    {
     "data": {
      "text/plain": [
       "21"
      ]
     },
     "execution_count": 36,
     "metadata": {},
     "output_type": "execute_result"
    }
   ],
   "source": [
    "t2.pop(\"age\") # this functions removes the elements with the specified key from the dictionary."
   ]
  },
  {
   "cell_type": "code",
   "execution_count": 37,
   "id": "a488ecd7",
   "metadata": {},
   "outputs": [
    {
     "data": {
      "text/plain": [
       "{'name': 'shriya', 'height': 5.6, 'gender': 'female'}"
      ]
     },
     "execution_count": 37,
     "metadata": {},
     "output_type": "execute_result"
    }
   ],
   "source": [
    "t2"
   ]
  },
  {
   "cell_type": "code",
   "execution_count": 40,
   "id": "b8b12139",
   "metadata": {},
   "outputs": [
    {
     "data": {
      "text/plain": [
       "('gender', 'female')"
      ]
     },
     "execution_count": 40,
     "metadata": {},
     "output_type": "execute_result"
    }
   ],
   "source": [
    "t2.popitem() #this functions returns the last inserted key and value as a tuple."
   ]
  },
  {
   "cell_type": "code",
   "execution_count": 8,
   "id": "13518b4d",
   "metadata": {},
   "outputs": [],
   "source": [
    "t2={\"name\":\"shriya\", \"age\":21,\"height\":5.6 , \"gender\":\"female\"}"
   ]
  },
  {
   "cell_type": "code",
   "execution_count": 9,
   "id": "2d5b8046",
   "metadata": {},
   "outputs": [
    {
     "data": {
      "text/plain": [
       "21"
      ]
     },
     "execution_count": 9,
     "metadata": {},
     "output_type": "execute_result"
    }
   ],
   "source": [
    "t2.setdefault(\"age\",22) #In this the value of age will not change because the key age is already exist with its default value as 21."
   ]
  },
  {
   "cell_type": "code",
   "execution_count": 10,
   "id": "a68c8d9b",
   "metadata": {},
   "outputs": [
    {
     "data": {
      "text/plain": [
       "'hindu'"
      ]
     },
     "execution_count": 10,
     "metadata": {},
     "output_type": "execute_result"
    }
   ],
   "source": [
    "t2.setdefault(\"religion\",\"hindu\") #this functions insert key with a value of default if key is not in the dictionary.\n"
   ]
  },
  {
   "cell_type": "code",
   "execution_count": 11,
   "id": "6d7e9bc3",
   "metadata": {},
   "outputs": [
    {
     "data": {
      "text/plain": [
       "{'name': 'shriya',\n",
       " 'age': 21,\n",
       " 'height': 5.6,\n",
       " 'gender': 'female',\n",
       " 'religion': 'hindu'}"
      ]
     },
     "execution_count": 11,
     "metadata": {},
     "output_type": "execute_result"
    }
   ],
   "source": [
    "t2"
   ]
  },
  {
   "cell_type": "code",
   "execution_count": 77,
   "id": "6983d9b9",
   "metadata": {},
   "outputs": [],
   "source": [
    "t2.update({\"name\":\"sakshi\"}) #this function will add or change dictionary items."
   ]
  },
  {
   "cell_type": "code",
   "execution_count": 76,
   "id": "3543f7ed",
   "metadata": {},
   "outputs": [
    {
     "data": {
      "text/plain": [
       "{'name': 'sakshi',\n",
       " 'age': 21,\n",
       " 'height': 5.6,\n",
       " 'gender': 'female',\n",
       " 'religion': 'hindu'}"
      ]
     },
     "execution_count": 76,
     "metadata": {},
     "output_type": "execute_result"
    }
   ],
   "source": [
    "t2"
   ]
  },
  {
   "cell_type": "code",
   "execution_count": 78,
   "id": "184ae8d4",
   "metadata": {},
   "outputs": [
    {
     "data": {
      "text/plain": [
       "dict_values(['sakshi', 21, 5.6, 'female', 'hindu'])"
      ]
     },
     "execution_count": 78,
     "metadata": {},
     "output_type": "execute_result"
    }
   ],
   "source": [
    "t2.values() # #this function give us the view of all the dictionary values that are present."
   ]
  },
  {
   "cell_type": "code",
   "execution_count": 79,
   "id": "38065412",
   "metadata": {},
   "outputs": [],
   "source": [
    "t2.clear() # this function removes all the item from the dictionary."
   ]
  },
  {
   "cell_type": "code",
   "execution_count": 80,
   "id": "53d1bc32",
   "metadata": {},
   "outputs": [
    {
     "data": {
      "text/plain": [
       "{}"
      ]
     },
     "execution_count": 80,
     "metadata": {},
     "output_type": "execute_result"
    }
   ],
   "source": [
    "t2"
   ]
  }
 ],
 "metadata": {
  "kernelspec": {
   "display_name": "Python 3 (ipykernel)",
   "language": "python",
   "name": "python3"
  },
  "language_info": {
   "codemirror_mode": {
    "name": "ipython",
    "version": 3
   },
   "file_extension": ".py",
   "mimetype": "text/x-python",
   "name": "python",
   "nbconvert_exporter": "python",
   "pygments_lexer": "ipython3",
   "version": "3.11.3"
  }
 },
 "nbformat": 4,
 "nbformat_minor": 5
}
