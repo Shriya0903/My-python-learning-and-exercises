{
 "cells": [
  {
   "cell_type": "markdown",
   "id": "972711b2",
   "metadata": {},
   "source": [
    "# Python session 5 - Set & it's operations"
   ]
  },
  {
   "cell_type": "markdown",
   "id": "ded8dc0f",
   "metadata": {},
   "source": [
    "Set:-Set stores an unordered collection of unique element i.e it do not allows duplicate elements and indexing is also not supported."
   ]
  },
  {
   "cell_type": "code",
   "execution_count": 1,
   "id": "6bbdc504",
   "metadata": {},
   "outputs": [],
   "source": [
    "s1={'apple','mango','cherry','banana','banana'}"
   ]
  },
  {
   "cell_type": "code",
   "execution_count": 2,
   "id": "1728a85b",
   "metadata": {},
   "outputs": [],
   "source": [
    "s2={'mango','blueberry','chicko','watermelon','apple'}"
   ]
  },
  {
   "cell_type": "code",
   "execution_count": 3,
   "id": "8e49e387",
   "metadata": {},
   "outputs": [
    {
     "data": {
      "text/plain": [
       "{'apple', 'banana', 'cherry', 'mango'}"
      ]
     },
     "execution_count": 3,
     "metadata": {},
     "output_type": "execute_result"
    }
   ],
   "source": [
    "s1"
   ]
  },
  {
   "cell_type": "code",
   "execution_count": null,
   "id": "9606f3db",
   "metadata": {},
   "outputs": [],
   "source": [
    "# Let us see some common functions of set"
   ]
  },
  {
   "cell_type": "code",
   "execution_count": 3,
   "id": "9b0ff154",
   "metadata": {},
   "outputs": [
    {
     "data": {
      "text/plain": [
       "set"
      ]
     },
     "execution_count": 3,
     "metadata": {},
     "output_type": "execute_result"
    }
   ],
   "source": [
    "type(s1)"
   ]
  },
  {
   "cell_type": "code",
   "execution_count": 16,
   "id": "9e630c7d",
   "metadata": {},
   "outputs": [
    {
     "data": {
      "text/plain": [
       "4"
      ]
     },
     "execution_count": 16,
     "metadata": {},
     "output_type": "execute_result"
    }
   ],
   "source": [
    "len(s1) #this function is used to find the length of a given set ."
   ]
  },
  {
   "cell_type": "code",
   "execution_count": 29,
   "id": "1d737d30",
   "metadata": {},
   "outputs": [
    {
     "data": {
      "text/plain": [
       "{'banana', 'cherry'}"
      ]
     },
     "execution_count": 29,
     "metadata": {},
     "output_type": "execute_result"
    }
   ],
   "source": [
    "s1.difference(s2) # It return the difference of two or more sets as a new set."
   ]
  },
  {
   "cell_type": "code",
   "execution_count": 30,
   "id": "cf27e732",
   "metadata": {},
   "outputs": [],
   "source": [
    "s1.difference_update(s2) #It removes the items in this specified set that are also included in another."
   ]
  },
  {
   "cell_type": "code",
   "execution_count": 31,
   "id": "eb7435ce",
   "metadata": {},
   "outputs": [
    {
     "data": {
      "text/plain": [
       "{'banana', 'cherry'}"
      ]
     },
     "execution_count": 31,
     "metadata": {},
     "output_type": "execute_result"
    }
   ],
   "source": [
    "s1"
   ]
  },
  {
   "cell_type": "code",
   "execution_count": 32,
   "id": "24155aa6",
   "metadata": {},
   "outputs": [],
   "source": [
    "s1.discard('banana') #It remove the specified item."
   ]
  },
  {
   "cell_type": "code",
   "execution_count": 33,
   "id": "fafb1fe7",
   "metadata": {},
   "outputs": [
    {
     "data": {
      "text/plain": [
       "{'cherry'}"
      ]
     },
     "execution_count": 33,
     "metadata": {},
     "output_type": "execute_result"
    }
   ],
   "source": [
    "s1"
   ]
  },
  {
   "cell_type": "code",
   "execution_count": 49,
   "id": "890fa312",
   "metadata": {},
   "outputs": [],
   "source": [
    "s3={'books','pen','pencil','pouch'}"
   ]
  },
  {
   "cell_type": "code",
   "execution_count": 50,
   "id": "a1954271",
   "metadata": {},
   "outputs": [],
   "source": [
    "s4={'sharpner','eraser','pencil','pen'}"
   ]
  },
  {
   "cell_type": "code",
   "execution_count": 36,
   "id": "228928b5",
   "metadata": {},
   "outputs": [
    {
     "data": {
      "text/plain": [
       "{'pen', 'pencil'}"
      ]
     },
     "execution_count": 36,
     "metadata": {},
     "output_type": "execute_result"
    }
   ],
   "source": [
    "s3.intersection(s4) #It returns a set, that is the intersection of two or more sets."
   ]
  },
  {
   "cell_type": "code",
   "execution_count": 44,
   "id": "5a649ba2",
   "metadata": {},
   "outputs": [],
   "source": [
    "s3.intersection_update(s4) #It update & removes the items in the specified set that are not present in other set. "
   ]
  },
  {
   "cell_type": "code",
   "execution_count": 46,
   "id": "949d77cc",
   "metadata": {},
   "outputs": [
    {
     "data": {
      "text/plain": [
       "{'pen', 'pencil'}"
      ]
     },
     "execution_count": 46,
     "metadata": {},
     "output_type": "execute_result"
    }
   ],
   "source": [
    "s3"
   ]
  },
  {
   "cell_type": "code",
   "execution_count": 47,
   "id": "3082cff2",
   "metadata": {},
   "outputs": [
    {
     "data": {
      "text/plain": [
       "False"
      ]
     },
     "execution_count": 47,
     "metadata": {},
     "output_type": "execute_result"
    }
   ],
   "source": [
    "s3.isdisjoint(s4) #It return True if two sets have a null intersection."
   ]
  },
  {
   "cell_type": "code",
   "execution_count": 4,
   "id": "9de4e70b",
   "metadata": {},
   "outputs": [],
   "source": [
    "s3={'pen','pencil'}"
   ]
  },
  {
   "cell_type": "code",
   "execution_count": 5,
   "id": "638fc48c",
   "metadata": {},
   "outputs": [],
   "source": [
    "s4={'sharpner','eraser','pencil','pen'}"
   ]
  },
  {
   "cell_type": "code",
   "execution_count": 54,
   "id": "a3fd168e",
   "metadata": {},
   "outputs": [
    {
     "data": {
      "text/plain": [
       "True"
      ]
     },
     "execution_count": 54,
     "metadata": {},
     "output_type": "execute_result"
    }
   ],
   "source": [
    "s3.issubset(s4) #It returns true if another set contains this specified set ,otherwise false."
   ]
  },
  {
   "cell_type": "code",
   "execution_count": 55,
   "id": "5f1ede46",
   "metadata": {},
   "outputs": [
    {
     "data": {
      "text/plain": [
       "False"
      ]
     },
     "execution_count": 55,
     "metadata": {},
     "output_type": "execute_result"
    }
   ],
   "source": [
    "s3.issuperset(s4) #It returns true if this specified set contains the another set ,otherwise false."
   ]
  },
  {
   "cell_type": "code",
   "execution_count": 58,
   "id": "4dc6a7e4",
   "metadata": {},
   "outputs": [
    {
     "data": {
      "text/plain": [
       "'pencil'"
      ]
     },
     "execution_count": 58,
     "metadata": {},
     "output_type": "execute_result"
    }
   ],
   "source": [
    "s4.pop() #It remove and return an arbitrary set element."
   ]
  },
  {
   "cell_type": "code",
   "execution_count": 59,
   "id": "ac7bff7c",
   "metadata": {},
   "outputs": [
    {
     "data": {
      "text/plain": [
       "{'eraser', 'pen', 'sharpner'}"
      ]
     },
     "execution_count": 59,
     "metadata": {},
     "output_type": "execute_result"
    }
   ],
   "source": [
    "s4"
   ]
  },
  {
   "cell_type": "code",
   "execution_count": 60,
   "id": "09e276f0",
   "metadata": {},
   "outputs": [],
   "source": [
    "s4.remove('pen') #It remove an element from a set; it must be a member.\n"
   ]
  },
  {
   "cell_type": "code",
   "execution_count": 61,
   "id": "dd77da54",
   "metadata": {},
   "outputs": [
    {
     "data": {
      "text/plain": [
       "{'eraser', 'sharpner'}"
      ]
     },
     "execution_count": 61,
     "metadata": {},
     "output_type": "execute_result"
    }
   ],
   "source": [
    "s4"
   ]
  },
  {
   "cell_type": "code",
   "execution_count": 6,
   "id": "f2ab75b6",
   "metadata": {},
   "outputs": [],
   "source": [
    "s5={'shriya','minu','rashmi'}"
   ]
  },
  {
   "cell_type": "code",
   "execution_count": 7,
   "id": "b5c9ddf1",
   "metadata": {},
   "outputs": [],
   "source": [
    "s6={'shriya','rashmi','harshal','aniket'}"
   ]
  },
  {
   "cell_type": "code",
   "execution_count": 86,
   "id": "dbeec10f",
   "metadata": {},
   "outputs": [
    {
     "data": {
      "text/plain": [
       "{'aniket', 'harshal', 'minu'}"
      ]
     },
     "execution_count": 86,
     "metadata": {},
     "output_type": "execute_result"
    }
   ],
   "source": [
    "s5.symmetric_difference(s6) # It returns a set with the symmetric differences of two sets."
   ]
  },
  {
   "cell_type": "code",
   "execution_count": 87,
   "id": "f9290ff8",
   "metadata": {},
   "outputs": [],
   "source": [
    "s5.symmetric_difference_update(s6) # It update a specified set with the symmetric difference of itself and another."
   ]
  },
  {
   "cell_type": "code",
   "execution_count": 88,
   "id": "8d50d1f7",
   "metadata": {},
   "outputs": [
    {
     "data": {
      "text/plain": [
       "{'aniket', 'harshal', 'minu'}"
      ]
     },
     "execution_count": 88,
     "metadata": {},
     "output_type": "execute_result"
    }
   ],
   "source": [
    "s5"
   ]
  },
  {
   "cell_type": "code",
   "execution_count": 12,
   "id": "8bbb657e",
   "metadata": {},
   "outputs": [],
   "source": [
    "s3={'books','pen','pencil','pouch'}"
   ]
  },
  {
   "cell_type": "code",
   "execution_count": 13,
   "id": "d432bff7",
   "metadata": {},
   "outputs": [],
   "source": [
    "s4={'sharpner','eraser','pencil','pen'}"
   ]
  },
  {
   "cell_type": "code",
   "execution_count": 14,
   "id": "8d0da4d3",
   "metadata": {},
   "outputs": [
    {
     "data": {
      "text/plain": [
       "{'books', 'eraser', 'pen', 'pencil', 'pouch', 'sharpner'}"
      ]
     },
     "execution_count": 14,
     "metadata": {},
     "output_type": "execute_result"
    }
   ],
   "source": [
    "s3.union(s4) # It return the union of two sets as a new set."
   ]
  },
  {
   "cell_type": "code",
   "execution_count": 15,
   "id": "70630d2b",
   "metadata": {},
   "outputs": [],
   "source": [
    "s3.update(s4) #It update a set with the union of itself and others."
   ]
  },
  {
   "cell_type": "code",
   "execution_count": 16,
   "id": "662ee502",
   "metadata": {},
   "outputs": [
    {
     "data": {
      "text/plain": [
       "{'books', 'eraser', 'pen', 'pencil', 'pouch', 'sharpner'}"
      ]
     },
     "execution_count": 16,
     "metadata": {},
     "output_type": "execute_result"
    }
   ],
   "source": [
    "s3"
   ]
  },
  {
   "cell_type": "code",
   "execution_count": 17,
   "id": "8b462a23",
   "metadata": {},
   "outputs": [],
   "source": [
    "s3.add('copy') #Add an element to a set."
   ]
  },
  {
   "cell_type": "code",
   "execution_count": 18,
   "id": "5a6096ef",
   "metadata": {},
   "outputs": [
    {
     "data": {
      "text/plain": [
       "{'books', 'copy', 'eraser', 'pen', 'pencil', 'pouch', 'sharpner'}"
      ]
     },
     "execution_count": 18,
     "metadata": {},
     "output_type": "execute_result"
    }
   ],
   "source": [
    "s3"
   ]
  },
  {
   "cell_type": "code",
   "execution_count": 19,
   "id": "eeb278c4",
   "metadata": {},
   "outputs": [],
   "source": [
    "s3.clear() #this function is used to remove all elements from this set."
   ]
  },
  {
   "cell_type": "code",
   "execution_count": 21,
   "id": "aa51ce5f",
   "metadata": {},
   "outputs": [
    {
     "data": {
      "text/plain": [
       "set()"
      ]
     },
     "execution_count": 21,
     "metadata": {},
     "output_type": "execute_result"
    }
   ],
   "source": [
    "s3"
   ]
  },
  {
   "cell_type": "code",
   "execution_count": 22,
   "id": "6288f332",
   "metadata": {},
   "outputs": [],
   "source": [
    " s17={1,5,9,4,2}"
   ]
  },
  {
   "cell_type": "code",
   "execution_count": 26,
   "id": "2ca9f267",
   "metadata": {},
   "outputs": [
    {
     "data": {
      "text/plain": [
       "{1, 2, 4, 5, 9}"
      ]
     },
     "execution_count": 26,
     "metadata": {},
     "output_type": "execute_result"
    }
   ],
   "source": [
    "s17"
   ]
  },
  {
   "cell_type": "code",
   "execution_count": 27,
   "id": "1064ea96",
   "metadata": {},
   "outputs": [
    {
     "data": {
      "text/plain": [
       "set"
      ]
     },
     "execution_count": 27,
     "metadata": {},
     "output_type": "execute_result"
    }
   ],
   "source": [
    "type(s17)"
   ]
  },
  {
   "cell_type": "code",
   "execution_count": 25,
   "id": "a8954d62",
   "metadata": {},
   "outputs": [
    {
     "ename": "TypeError",
     "evalue": "'set' object is not subscriptable",
     "output_type": "error",
     "traceback": [
      "\u001b[1;31m---------------------------------------------------------------------------\u001b[0m",
      "\u001b[1;31mTypeError\u001b[0m                                 Traceback (most recent call last)",
      "Cell \u001b[1;32mIn[25], line 1\u001b[0m\n\u001b[1;32m----> 1\u001b[0m s17[\u001b[38;5;241m2\u001b[39m]\n",
      "\u001b[1;31mTypeError\u001b[0m: 'set' object is not subscriptable"
     ]
    }
   ],
   "source": [
    "s17[2] # this error is because of set{} functions does not support indexing"
   ]
  },
  {
   "cell_type": "code",
   "execution_count": 6,
   "id": "bc108620",
   "metadata": {},
   "outputs": [
    {
     "ename": "TypeError",
     "evalue": "'set' object does not support item assignment",
     "output_type": "error",
     "traceback": [
      "\u001b[1;31m---------------------------------------------------------------------------\u001b[0m",
      "\u001b[1;31mTypeError\u001b[0m                                 Traceback (most recent call last)",
      "Cell \u001b[1;32mIn[6], line 1\u001b[0m\n\u001b[1;32m----> 1\u001b[0m s17[\u001b[38;5;241m0\u001b[39m]\u001b[38;5;241m=\u001b[39m\u001b[38;5;241m9\u001b[39m\n",
      "\u001b[1;31mTypeError\u001b[0m: 'set' object does not support item assignment"
     ]
    }
   ],
   "source": [
    "s17[0]=9 #this error is because  set{} functions does not support item assignment i.e sets are immutable."
   ]
  }
 ],
 "metadata": {
  "kernelspec": {
   "display_name": "Python 3 (ipykernel)",
   "language": "python",
   "name": "python3"
  },
  "language_info": {
   "codemirror_mode": {
    "name": "ipython",
    "version": 3
   },
   "file_extension": ".py",
   "mimetype": "text/x-python",
   "name": "python",
   "nbconvert_exporter": "python",
   "pygments_lexer": "ipython3",
   "version": "3.11.3"
  }
 },
 "nbformat": 4,
 "nbformat_minor": 5
}
