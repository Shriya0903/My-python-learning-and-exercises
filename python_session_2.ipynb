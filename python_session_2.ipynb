{
 "cells": [
  {
   "cell_type": "markdown",
   "id": "68f115ec",
   "metadata": {},
   "source": [
    "# Python session 2 - List & list operations"
   ]
  },
  {
   "cell_type": "code",
   "execution_count": 1,
   "id": "9a06e46d",
   "metadata": {},
   "outputs": [],
   "source": [
    "l1=[2,'s',2.1]"
   ]
  },
  {
   "cell_type": "code",
   "execution_count": 2,
   "id": "55e7fff1",
   "metadata": {},
   "outputs": [
    {
     "name": "stdout",
     "output_type": "stream",
     "text": [
      "[2, 's', 2.1]\n"
     ]
    }
   ],
   "source": [
    "print(l1)"
   ]
  },
  {
   "cell_type": "code",
   "execution_count": 3,
   "id": "d5fcd1f7",
   "metadata": {},
   "outputs": [
    {
     "data": {
      "text/plain": [
       "2"
      ]
     },
     "execution_count": 3,
     "metadata": {},
     "output_type": "execute_result"
    }
   ],
   "source": [
    "l1[0]"
   ]
  },
  {
   "cell_type": "code",
   "execution_count": 4,
   "id": "ffe1db4c",
   "metadata": {},
   "outputs": [
    {
     "data": {
      "text/plain": [
       "'s'"
      ]
     },
     "execution_count": 4,
     "metadata": {},
     "output_type": "execute_result"
    }
   ],
   "source": [
    "l1[1]"
   ]
  },
  {
   "cell_type": "code",
   "execution_count": 5,
   "id": "8546bbf6",
   "metadata": {},
   "outputs": [
    {
     "ename": "IndexError",
     "evalue": "list index out of range",
     "output_type": "error",
     "traceback": [
      "\u001b[1;31m---------------------------------------------------------------------------\u001b[0m",
      "\u001b[1;31mIndexError\u001b[0m                                Traceback (most recent call last)",
      "Cell \u001b[1;32mIn[5], line 1\u001b[0m\n\u001b[1;32m----> 1\u001b[0m l1[\u001b[38;5;241m3\u001b[39m]\n",
      "\u001b[1;31mIndexError\u001b[0m: list index out of range"
     ]
    }
   ],
   "source": [
    "l1[3]#this error is because of there are only 3 elements and the last indexed elements comes at 2"
   ]
  },
  {
   "cell_type": "code",
   "execution_count": 2,
   "id": "fc2d8ce2",
   "metadata": {},
   "outputs": [],
   "source": [
    "l2=[1,['a',2,'shriya'],14,15]"
   ]
  },
  {
   "cell_type": "code",
   "execution_count": 9,
   "id": "83411ae2",
   "metadata": {},
   "outputs": [
    {
     "data": {
      "text/plain": [
       "[1, ['a', 2, 'shriya'], 14, 15]"
      ]
     },
     "execution_count": 9,
     "metadata": {},
     "output_type": "execute_result"
    }
   ],
   "source": [
    "l2"
   ]
  },
  {
   "cell_type": "code",
   "execution_count": 14,
   "id": "73d296aa",
   "metadata": {},
   "outputs": [
    {
     "data": {
      "text/plain": [
       "['a', 2, 'shriya']"
      ]
     },
     "execution_count": 14,
     "metadata": {},
     "output_type": "execute_result"
    }
   ],
   "source": [
    "l2[1]"
   ]
  },
  {
   "cell_type": "code",
   "execution_count": 13,
   "id": "235fcae2",
   "metadata": {},
   "outputs": [
    {
     "data": {
      "text/plain": [
       "'shriya'"
      ]
     },
     "execution_count": 13,
     "metadata": {},
     "output_type": "execute_result"
    }
   ],
   "source": [
    "l2[1][2]"
   ]
  },
  {
   "cell_type": "code",
   "execution_count": 15,
   "id": "48ee4a0d",
   "metadata": {},
   "outputs": [],
   "source": [
    "a=l2[1]"
   ]
  },
  {
   "cell_type": "code",
   "execution_count": 16,
   "id": "3aebf105",
   "metadata": {},
   "outputs": [
    {
     "data": {
      "text/plain": [
       "['a', 2, 'shriya']"
      ]
     },
     "execution_count": 16,
     "metadata": {},
     "output_type": "execute_result"
    }
   ],
   "source": [
    "a"
   ]
  },
  {
   "cell_type": "code",
   "execution_count": 17,
   "id": "47eccc3e",
   "metadata": {},
   "outputs": [
    {
     "data": {
      "text/plain": [
       "'shriya'"
      ]
     },
     "execution_count": 17,
     "metadata": {},
     "output_type": "execute_result"
    }
   ],
   "source": [
    "a[2]"
   ]
  },
  {
   "cell_type": "code",
   "execution_count": 18,
   "id": "88ce4c88",
   "metadata": {},
   "outputs": [
    {
     "data": {
      "text/plain": [
       "15"
      ]
     },
     "execution_count": 18,
     "metadata": {},
     "output_type": "execute_result"
    }
   ],
   "source": [
    "l2[-1]"
   ]
  },
  {
   "cell_type": "code",
   "execution_count": 22,
   "id": "7eec5efd",
   "metadata": {},
   "outputs": [
    {
     "data": {
      "text/plain": [
       "4"
      ]
     },
     "execution_count": 22,
     "metadata": {},
     "output_type": "execute_result"
    }
   ],
   "source": [
    "len(l2)"
   ]
  },
  {
   "cell_type": "code",
   "execution_count": 32,
   "id": "58aacad4",
   "metadata": {},
   "outputs": [
    {
     "data": {
      "text/plain": [
       "[1, ['a', 2, 'shriya'], 14, 15]"
      ]
     },
     "execution_count": 32,
     "metadata": {},
     "output_type": "execute_result"
    }
   ],
   "source": [
    "l2"
   ]
  },
  {
   "cell_type": "code",
   "execution_count": 33,
   "id": "f345e1e2",
   "metadata": {},
   "outputs": [
    {
     "data": {
      "text/plain": [
       "4"
      ]
     },
     "execution_count": 33,
     "metadata": {},
     "output_type": "execute_result"
    }
   ],
   "source": [
    "len(l2)"
   ]
  },
  {
   "cell_type": "code",
   "execution_count": 35,
   "id": "79ad069d",
   "metadata": {},
   "outputs": [
    {
     "ename": "IndexError",
     "evalue": "list assignment index out of range",
     "output_type": "error",
     "traceback": [
      "\u001b[1;31m---------------------------------------------------------------------------\u001b[0m",
      "\u001b[1;31mIndexError\u001b[0m                                Traceback (most recent call last)",
      "Cell \u001b[1;32mIn[35], line 1\u001b[0m\n\u001b[1;32m----> 1\u001b[0m l2[\u001b[38;5;241m4\u001b[39m]\u001b[38;5;241m=\u001b[39m\u001b[38;5;124m'\u001b[39m\u001b[38;5;124mshriya\u001b[39m\u001b[38;5;124m'\u001b[39m\n",
      "\u001b[1;31mIndexError\u001b[0m: list assignment index out of range"
     ]
    }
   ],
   "source": [
    "l2[4]='shriya'"
   ]
  },
  {
   "cell_type": "code",
   "execution_count": 3,
   "id": "2edff247",
   "metadata": {},
   "outputs": [],
   "source": [
    "l2.append('elephant')"
   ]
  },
  {
   "cell_type": "code",
   "execution_count": 3,
   "id": "f00d85f5",
   "metadata": {},
   "outputs": [
    {
     "data": {
      "text/plain": [
       "[1, ['a', 2, 'shriya'], 14, 15, 'elephant']"
      ]
     },
     "execution_count": 3,
     "metadata": {},
     "output_type": "execute_result"
    }
   ],
   "source": [
    "l2"
   ]
  },
  {
   "cell_type": "code",
   "execution_count": 28,
   "id": "050b16db",
   "metadata": {},
   "outputs": [
    {
     "data": {
      "text/plain": [
       "5"
      ]
     },
     "execution_count": 28,
     "metadata": {},
     "output_type": "execute_result"
    }
   ],
   "source": [
    "len(l2)"
   ]
  },
  {
   "cell_type": "code",
   "execution_count": 29,
   "id": "499b5a46",
   "metadata": {},
   "outputs": [],
   "source": [
    "l2[4]='donkey'"
   ]
  },
  {
   "cell_type": "code",
   "execution_count": 30,
   "id": "a99acf75",
   "metadata": {},
   "outputs": [
    {
     "data": {
      "text/plain": [
       "[1, ['a', 2, 'shriya'], 14, 15, 'donkey']"
      ]
     },
     "execution_count": 30,
     "metadata": {},
     "output_type": "execute_result"
    }
   ],
   "source": [
    "l2"
   ]
  },
  {
   "cell_type": "code",
   "execution_count": 38,
   "id": "4213b631",
   "metadata": {},
   "outputs": [
    {
     "data": {
      "text/plain": [
       "'elephant'"
      ]
     },
     "execution_count": 38,
     "metadata": {},
     "output_type": "execute_result"
    }
   ],
   "source": [
    "l2.pop()"
   ]
  },
  {
   "cell_type": "code",
   "execution_count": 39,
   "id": "c2518b2e",
   "metadata": {},
   "outputs": [
    {
     "data": {
      "text/plain": [
       "[1, ['a', 2, 'shriya'], 14, 15]"
      ]
     },
     "execution_count": 39,
     "metadata": {},
     "output_type": "execute_result"
    }
   ],
   "source": [
    "l2"
   ]
  },
  {
   "cell_type": "code",
   "execution_count": 41,
   "id": "c34182eb",
   "metadata": {},
   "outputs": [],
   "source": [
    "l2.reverse()"
   ]
  },
  {
   "cell_type": "code",
   "execution_count": 42,
   "id": "3f21e12d",
   "metadata": {},
   "outputs": [
    {
     "data": {
      "text/plain": [
       "[15, 14, ['a', 2, 'shriya'], 1]"
      ]
     },
     "execution_count": 42,
     "metadata": {},
     "output_type": "execute_result"
    }
   ],
   "source": [
    "l2"
   ]
  },
  {
   "cell_type": "code",
   "execution_count": 43,
   "id": "d6c183e2",
   "metadata": {},
   "outputs": [],
   "source": [
    "l2[2].reverse()"
   ]
  },
  {
   "cell_type": "code",
   "execution_count": 44,
   "id": "99217348",
   "metadata": {},
   "outputs": [
    {
     "data": {
      "text/plain": [
       "['shriya', 2, 'a']"
      ]
     },
     "execution_count": 44,
     "metadata": {},
     "output_type": "execute_result"
    }
   ],
   "source": [
    "l2[2]"
   ]
  },
  {
   "cell_type": "code",
   "execution_count": 45,
   "id": "56d1e467",
   "metadata": {},
   "outputs": [],
   "source": [
    "l2.clear()# this function will remove all the itmes from the list."
   ]
  },
  {
   "cell_type": "code",
   "execution_count": 46,
   "id": "ff04e882",
   "metadata": {},
   "outputs": [
    {
     "data": {
      "text/plain": [
       "[]"
      ]
     },
     "execution_count": 46,
     "metadata": {},
     "output_type": "execute_result"
    }
   ],
   "source": [
    "l2"
   ]
  },
  {
   "cell_type": "code",
   "execution_count": 88,
   "id": "4f7acdab",
   "metadata": {},
   "outputs": [],
   "source": [
    "l3=['apple',3,5,'mango',33,3,44]"
   ]
  },
  {
   "cell_type": "code",
   "execution_count": 53,
   "id": "2d481b6f",
   "metadata": {},
   "outputs": [
    {
     "data": {
      "text/plain": [
       "2"
      ]
     },
     "execution_count": 53,
     "metadata": {},
     "output_type": "execute_result"
    }
   ],
   "source": [
    "l3.count(3)#this function will return the number of occurance of the values in the list."
   ]
  },
  {
   "cell_type": "code",
   "execution_count": 4,
   "id": "d65c288c",
   "metadata": {},
   "outputs": [],
   "source": [
    "l4=[2,5,7,'dog']"
   ]
  },
  {
   "cell_type": "code",
   "execution_count": 5,
   "id": "2e545694",
   "metadata": {},
   "outputs": [],
   "source": [
    "l5=['cat','ant','cow',36,57]"
   ]
  },
  {
   "cell_type": "code",
   "execution_count": 112,
   "id": "2fa4a9f5",
   "metadata": {},
   "outputs": [],
   "source": [
    "l4.extend(l5)# this method is used to add the specified list elements to the end of cuurrent list."
   ]
  },
  {
   "cell_type": "code",
   "execution_count": 113,
   "id": "5b83b9f9",
   "metadata": {
    "scrolled": true
   },
   "outputs": [
    {
     "data": {
      "text/plain": [
       "[2, 5, 7, 'dog', 'cat', 'ant', 'cow', 36, 57]"
      ]
     },
     "execution_count": 113,
     "metadata": {},
     "output_type": "execute_result"
    }
   ],
   "source": [
    "l4"
   ]
  },
  {
   "cell_type": "code",
   "execution_count": 114,
   "id": "a790fd15",
   "metadata": {},
   "outputs": [
    {
     "data": {
      "text/plain": [
       "[2, 5, 7, 'dog', 'cat', 'ant', 'cow', 36, 57]"
      ]
     },
     "execution_count": 114,
     "metadata": {},
     "output_type": "execute_result"
    }
   ],
   "source": [
    "l4.copy()# this method returns a shallow copy of the list"
   ]
  },
  {
   "cell_type": "code",
   "execution_count": 117,
   "id": "43008e62",
   "metadata": {},
   "outputs": [
    {
     "data": {
      "text/plain": [
       "5"
      ]
     },
     "execution_count": 117,
     "metadata": {},
     "output_type": "execute_result"
    }
   ],
   "source": [
    "l4.index('ant')#this method returns the first index of the value from the list."
   ]
  },
  {
   "cell_type": "code",
   "execution_count": 118,
   "id": "726c64b9",
   "metadata": {},
   "outputs": [],
   "source": [
    "l4.insert(5,'frog')#this method will insert object before index."
   ]
  },
  {
   "cell_type": "code",
   "execution_count": 119,
   "id": "07453757",
   "metadata": {},
   "outputs": [
    {
     "data": {
      "text/plain": [
       "[2, 5, 7, 'dog', 'cat', 'frog', 'ant', 'cow', 36, 57]"
      ]
     },
     "execution_count": 119,
     "metadata": {},
     "output_type": "execute_result"
    }
   ],
   "source": [
    "l4"
   ]
  },
  {
   "cell_type": "code",
   "execution_count": 120,
   "id": "d15ca2cf",
   "metadata": {},
   "outputs": [],
   "source": [
    "l4.remove('frog') #this method will remove the value which we want to."
   ]
  },
  {
   "cell_type": "code",
   "execution_count": 121,
   "id": "2fc2ad30",
   "metadata": {},
   "outputs": [
    {
     "data": {
      "text/plain": [
       "[2, 5, 7, 'dog', 'cat', 'ant', 'cow', 36, 57]"
      ]
     },
     "execution_count": 121,
     "metadata": {},
     "output_type": "execute_result"
    }
   ],
   "source": [
    "l4"
   ]
  },
  {
   "cell_type": "code",
   "execution_count": 123,
   "id": "34e2ecfd",
   "metadata": {},
   "outputs": [],
   "source": [
    "l6=[33,44,2,1,6,7]"
   ]
  },
  {
   "cell_type": "code",
   "execution_count": 124,
   "id": "2b20ea75",
   "metadata": {},
   "outputs": [],
   "source": [
    "l6.sort() #this method will sort the list in ascending order."
   ]
  },
  {
   "cell_type": "code",
   "execution_count": 125,
   "id": "b3111faa",
   "metadata": {},
   "outputs": [
    {
     "data": {
      "text/plain": [
       "[1, 2, 6, 7, 33, 44]"
      ]
     },
     "execution_count": 125,
     "metadata": {},
     "output_type": "execute_result"
    }
   ],
   "source": [
    "l6"
   ]
  }
 ],
 "metadata": {
  "kernelspec": {
   "display_name": "Python 3 (ipykernel)",
   "language": "python",
   "name": "python3"
  },
  "language_info": {
   "codemirror_mode": {
    "name": "ipython",
    "version": 3
   },
   "file_extension": ".py",
   "mimetype": "text/x-python",
   "name": "python",
   "nbconvert_exporter": "python",
   "pygments_lexer": "ipython3",
   "version": "3.11.3"
  }
 },
 "nbformat": 4,
 "nbformat_minor": 5
}
