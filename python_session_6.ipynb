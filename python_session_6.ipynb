{
 "cells": [
  {
   "cell_type": "markdown",
   "id": "d6693f67",
   "metadata": {},
   "source": [
    "# Conditional Statements"
   ]
  },
  {
   "cell_type": "code",
   "execution_count": null,
   "id": "8537ae65",
   "metadata": {},
   "outputs": [],
   "source": [
    "#Here are some of the examples related to conditional statements"
   ]
  },
  {
   "cell_type": "code",
   "execution_count": 1,
   "id": "2819aa62",
   "metadata": {},
   "outputs": [],
   "source": [
    "a=''"
   ]
  },
  {
   "cell_type": "code",
   "execution_count": 31,
   "id": "d980f2ca",
   "metadata": {},
   "outputs": [
    {
     "name": "stdout",
     "output_type": "stream",
     "text": [
      "minu's birthday\n"
     ]
    }
   ],
   "source": [
    "if a==9:\n",
    "    print('my birthday')\n",
    "elif a==17:\n",
    "    print(\"minu's birthday\")"
   ]
  },
  {
   "cell_type": "code",
   "execution_count": 30,
   "id": "fb773e39",
   "metadata": {},
   "outputs": [
    {
     "name": "stdout",
     "output_type": "stream",
     "text": [
      "enter numbers 9 and 17 only17\n"
     ]
    }
   ],
   "source": [
    "a=int(input(\"enter numbers 9 and 17 only\"))"
   ]
  },
  {
   "cell_type": "code",
   "execution_count": 4,
   "id": "11b4ddb4",
   "metadata": {},
   "outputs": [
    {
     "name": "stdout",
     "output_type": "stream",
     "text": [
      "my birthday\n"
     ]
    }
   ],
   "source": [
    "if a==9:\n",
    "    print('my birthday')\n",
    "elif a==17:\n",
    "    print(\"minu's birthday\")"
   ]
  },
  {
   "cell_type": "code",
   "execution_count": 1,
   "id": "531ff60c",
   "metadata": {},
   "outputs": [
    {
     "name": "stdout",
     "output_type": "stream",
     "text": [
      "enter your income  30000\n"
     ]
    }
   ],
   "source": [
    "income = int(input(\"enter your income  \"))\n",
    "tax_percentage=0"
   ]
  },
  {
   "cell_type": "code",
   "execution_count": 2,
   "id": "de1c9f23",
   "metadata": {},
   "outputs": [
    {
     "data": {
      "text/plain": [
       "int"
      ]
     },
     "execution_count": 2,
     "metadata": {},
     "output_type": "execute_result"
    }
   ],
   "source": [
    "type(income)"
   ]
  },
  {
   "cell_type": "code",
   "execution_count": 6,
   "id": "1ada0183",
   "metadata": {},
   "outputs": [
    {
     "name": "stdout",
     "output_type": "stream",
     "text": [
      "25500.0\n"
     ]
    }
   ],
   "source": [
    "if income == 10000:\n",
    "    tax_percentage = 5/100\n",
    "    tax_calculator=income * tax_percentage\n",
    "    net_income = income - tax_calculator\n",
    "    print(net_income)\n",
    "elif income == 20000:\n",
    "    tax_percentage = 10/100\n",
    "    tax_calculator=income * tax_percentage\n",
    "    net_income = income - tax_calculator\n",
    "    print(net_income)\n",
    "elif income == 30000:\n",
    "    tax_percentage = 15/100\n",
    "    tax_calculator=income * tax_percentage\n",
    "    net_income = income - tax_calculator\n",
    "    print(net_income)\n",
    "    \n",
    "else :\n",
    "    print(\"there will be standard deduction of rs.500\")"
   ]
  },
  {
   "cell_type": "code",
   "execution_count": null,
   "id": "cb4fb90b",
   "metadata": {},
   "outputs": [],
   "source": [
    "net_income"
   ]
  },
  {
   "cell_type": "code",
   "execution_count": 10,
   "id": "60c223b9",
   "metadata": {},
   "outputs": [
    {
     "name": "stdout",
     "output_type": "stream",
     "text": [
      "Welcome to shriya's cafe\n",
      "enter c for cheese and v for viggies  V\n",
      "Here is your veggie sandwich \n",
      "THANK YOU for your visit,please visit again. \n"
     ]
    }
   ],
   "source": [
    "print(\"Welcome to shriya's cafe\")\n",
    "menu_item=str(input(\"enter c for cheese and v for viggies  \").casefold())\n",
    " \n",
    "if menu_item==(\"v\"):\n",
    "    print(\"Here is your veggie sandwich \")\n",
    "elif menu_item==(\"c\"):\n",
    "    item_2=str(input(\"enter m for Manchengo and c for cheddar\").casefold())\n",
    "    if item_2==(\"m\"):\n",
    "        print(\"Here is your Manchego cheese sandwich\")\n",
    "    elif item_2==(\"c\"):\n",
    "        print(\"Here is your Cheddar cheese sandwich\")\n",
    "    elif item_2==(\"\"):\n",
    "        print(\"Error: Invalid input! Please choose either m for Manchego or c for cheddar.\")\n",
    "elif menu_item==(\"\"):\n",
    "    print(\"Error: Invalid input! Please choose either v for veggies or c for cheese.\")\n",
    "else:\n",
    "    print(\"Sir/mam we only offer veggie and cheese sandwiches\")\n",
    "print(\"THANK YOU for your visit,please visit again. \")\n",
    "    \n"
   ]
  }
 ],
 "metadata": {
  "kernelspec": {
   "display_name": "Python 3 (ipykernel)",
   "language": "python",
   "name": "python3"
  },
  "language_info": {
   "codemirror_mode": {
    "name": "ipython",
    "version": 3
   },
   "file_extension": ".py",
   "mimetype": "text/x-python",
   "name": "python",
   "nbconvert_exporter": "python",
   "pygments_lexer": "ipython3",
   "version": "3.11.3"
  }
 },
 "nbformat": 4,
 "nbformat_minor": 5
}
