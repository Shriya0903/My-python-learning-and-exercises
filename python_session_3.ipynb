{
 "cells": [
  {
   "cell_type": "markdown",
   "id": "9d6e1dcd",
   "metadata": {},
   "source": [
    "# Python session 3 - Tuples & it's operations"
   ]
  },
  {
   "cell_type": "code",
   "execution_count": 1,
   "id": "41cd4c02",
   "metadata": {},
   "outputs": [],
   "source": [
    "t1=(\"cat\",\"dog\",\"hen\",\"duck\",\"dog\")"
   ]
  },
  {
   "cell_type": "code",
   "execution_count": 17,
   "id": "6b588514",
   "metadata": {},
   "outputs": [
    {
     "data": {
      "text/plain": [
       "('cat', 'dog', 'hen', 'duck', 'dog')"
      ]
     },
     "execution_count": 17,
     "metadata": {},
     "output_type": "execute_result"
    }
   ],
   "source": [
    "t1"
   ]
  },
  {
   "cell_type": "code",
   "execution_count": 5,
   "id": "5b3a3954",
   "metadata": {},
   "outputs": [
    {
     "data": {
      "text/plain": [
       "'dog'"
      ]
     },
     "execution_count": 5,
     "metadata": {},
     "output_type": "execute_result"
    }
   ],
   "source": [
    "t1[1]"
   ]
  },
  {
   "cell_type": "code",
   "execution_count": null,
   "id": "fd5bb70e",
   "metadata": {},
   "outputs": [],
   "source": [
    "# Let us see some common functions of tuples"
   ]
  },
  {
   "cell_type": "code",
   "execution_count": 27,
   "id": "bc0c9af4",
   "metadata": {},
   "outputs": [
    {
     "data": {
      "text/plain": [
       "5"
      ]
     },
     "execution_count": 27,
     "metadata": {},
     "output_type": "execute_result"
    }
   ],
   "source": [
    "len(t1) # the len function is used to see the lenth of a tuple"
   ]
  },
  {
   "cell_type": "code",
   "execution_count": 25,
   "id": "a3b91ef9",
   "metadata": {},
   "outputs": [
    {
     "data": {
      "text/plain": [
       "1"
      ]
     },
     "execution_count": 25,
     "metadata": {},
     "output_type": "execute_result"
    }
   ],
   "source": [
    "t1.count(\"cat\") # this function return number of occurrences of value.\n"
   ]
  },
  {
   "cell_type": "code",
   "execution_count": 26,
   "id": "e2e7f3b7",
   "metadata": {},
   "outputs": [
    {
     "data": {
      "text/plain": [
       "2"
      ]
     },
     "execution_count": 26,
     "metadata": {},
     "output_type": "execute_result"
    }
   ],
   "source": [
    "t1.index(\"hen\") # this function return first index of value.\n"
   ]
  },
  {
   "cell_type": "code",
   "execution_count": 18,
   "id": "6e3543b3",
   "metadata": {},
   "outputs": [],
   "source": [
    "t1=[(\"cat\",\"dog\",\"hen\",\"duck\",\"dog\"),\"monkey\"]"
   ]
  },
  {
   "cell_type": "code",
   "execution_count": 19,
   "id": "5a39742c",
   "metadata": {},
   "outputs": [
    {
     "data": {
      "text/plain": [
       "list"
      ]
     },
     "execution_count": 19,
     "metadata": {},
     "output_type": "execute_result"
    }
   ],
   "source": [
    "type(t1)#we can also create a tuple inside the list"
   ]
  },
  {
   "cell_type": "code",
   "execution_count": 4,
   "id": "cfcb2cf3",
   "metadata": {},
   "outputs": [],
   "source": [
    "t3=(3,5,2,6)"
   ]
  },
  {
   "cell_type": "code",
   "execution_count": 5,
   "id": "108efb42",
   "metadata": {},
   "outputs": [
    {
     "data": {
      "text/plain": [
       "(3, 5, 2, 6)"
      ]
     },
     "execution_count": 5,
     "metadata": {},
     "output_type": "execute_result"
    }
   ],
   "source": [
    "t3"
   ]
  },
  {
   "cell_type": "code",
   "execution_count": 3,
   "id": "39dd1ef9",
   "metadata": {},
   "outputs": [
    {
     "data": {
      "text/plain": [
       "tuple"
      ]
     },
     "execution_count": 3,
     "metadata": {},
     "output_type": "execute_result"
    }
   ],
   "source": [
    "type(t3)"
   ]
  },
  {
   "cell_type": "code",
   "execution_count": 6,
   "id": "e45e5b9a",
   "metadata": {},
   "outputs": [
    {
     "ename": "TypeError",
     "evalue": "'tuple' object does not support item assignment",
     "output_type": "error",
     "traceback": [
      "\u001b[1;31m---------------------------------------------------------------------------\u001b[0m",
      "\u001b[1;31mTypeError\u001b[0m                                 Traceback (most recent call last)",
      "Cell \u001b[1;32mIn[6], line 1\u001b[0m\n\u001b[1;32m----> 1\u001b[0m t3[\u001b[38;5;241m1\u001b[39m]\u001b[38;5;241m=\u001b[39m[\u001b[38;5;241m6\u001b[39m]\n",
      "\u001b[1;31mTypeError\u001b[0m: 'tuple' object does not support item assignment"
     ]
    }
   ],
   "source": [
    "t3[1]=[6]#this error is because of tuple object does not support item assignment."
   ]
  }
 ],
 "metadata": {
  "kernelspec": {
   "display_name": "Python 3 (ipykernel)",
   "language": "python",
   "name": "python3"
  },
  "language_info": {
   "codemirror_mode": {
    "name": "ipython",
    "version": 3
   },
   "file_extension": ".py",
   "mimetype": "text/x-python",
   "name": "python",
   "nbconvert_exporter": "python",
   "pygments_lexer": "ipython3",
   "version": "3.11.3"
  }
 },
 "nbformat": 4,
 "nbformat_minor": 5
}
