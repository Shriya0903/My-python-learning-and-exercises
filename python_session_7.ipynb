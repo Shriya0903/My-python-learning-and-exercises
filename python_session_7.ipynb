{
 "cells": [
  {
   "cell_type": "markdown",
   "id": "5f439782",
   "metadata": {},
   "source": [
    "## Loops & Loop operation's\n",
    "\n",
    "In Python, a loop is a control structure that allows you to repeatedly execute a block of code multiple times. Loops are essential for automating repetitive tasks and iterating over collections of data, such as lists or strings.\n",
    "\n",
    "Python provides two main types of loops i.e a \"for\" loop and a \"while\" loop.\n",
    "\n",
    "For Loop: A 'for' loop is used to iterate over a sequence (such as a list, tuple, string, or range) and execute a block of code for each item in the sequence. It is typically used when you know the number of iterations in advance or when you want to iterate over elements one by one.\n",
    "\n",
    "While Loop: A while loop is used to repeatedly execute a block of code as long as a specified condition is true. It is often used when you don't know in advance how many iterations are needed or when you want to continue looping until a specific condition is met."
   ]
  },
  {
   "cell_type": "code",
   "execution_count": 1,
   "id": "fc56a4ec",
   "metadata": {},
   "outputs": [],
   "source": [
    "numbers=[19,24,36,42,3,1,7,9,4,5,4,101]\n",
    "#from this list of numbers print even and odd."
   ]
  },
  {
   "cell_type": "code",
   "execution_count": 13,
   "id": "95ae9951",
   "metadata": {},
   "outputs": [
    {
     "name": "stdout",
     "output_type": "stream",
     "text": [
      "odd  19\n",
      "even  24\n",
      "even  36\n",
      "even  42\n",
      "odd  3\n",
      "odd  1\n",
      "odd  7\n",
      "odd  9\n",
      "even  4\n",
      "odd  5\n",
      "even  4\n",
      "odd  101\n"
     ]
    }
   ],
   "source": [
    "for i in numbers:\n",
    "    if i%2==0:\n",
    "        print(\"even \",i)\n",
    "    else:\n",
    "        print(\"odd \",i)"
   ]
  },
  {
   "cell_type": "code",
   "execution_count": 6,
   "id": "adc0a826",
   "metadata": {},
   "outputs": [
    {
     "data": {
      "text/plain": [
       "int"
      ]
     },
     "execution_count": 6,
     "metadata": {},
     "output_type": "execute_result"
    }
   ],
   "source": [
    "type(len(numbers))"
   ]
  },
  {
   "cell_type": "code",
   "execution_count": 7,
   "id": "0c50d65d",
   "metadata": {},
   "outputs": [
    {
     "data": {
      "text/plain": [
       "list"
      ]
     },
     "execution_count": 7,
     "metadata": {},
     "output_type": "execute_result"
    }
   ],
   "source": [
    "type(numbers)"
   ]
  },
  {
   "cell_type": "code",
   "execution_count": 2,
   "id": "62f5e15b",
   "metadata": {},
   "outputs": [
    {
     "name": "stdout",
     "output_type": "stream",
     "text": [
      "even  19\n",
      "odd  24\n",
      "even  36\n",
      "odd  42\n",
      "even  3\n",
      "odd  1\n",
      "even  7\n",
      "odd  9\n",
      "even  4\n",
      "odd  5\n",
      "even  4\n",
      "odd  101\n"
     ]
    }
   ],
   "source": [
    "for i in range(len(numbers)):\n",
    "    numbers[i]\n",
    "    if i%2==0:\n",
    "        print(\"even \", numbers[i])\n",
    "    else:\n",
    "        print(\"odd \", numbers[i])"
   ]
  },
  {
   "cell_type": "markdown",
   "id": "75d68838",
   "metadata": {},
   "source": [
    "#### Prints all the numbers between 100 and 1000 (inclusive) that are divisible by both 5 and 6, and  prints them in rows of 10 numbers per row."
   ]
  },
  {
   "cell_type": "code",
   "execution_count": 4,
   "id": "ad0d2587",
   "metadata": {},
   "outputs": [
    {
     "name": "stdout",
     "output_type": "stream",
     "text": [
      "120 150 180 210 240 270 300 330 360 390 \n",
      "420 450 480 510 540 570 600 630 660 690 \n",
      "720 750 780 810 840 870 900 930 960 990 \n"
     ]
    }
   ],
   "source": [
    "count=0 \n",
    "for i in range(100,1001):#we use a for loop to iterate through numbers from 100 to 1000 (inclusive) using the range() function.\n",
    "    if i%5==0 and i%6==0:\n",
    "        print(i,end=\" \")\n",
    "        count+=1 #Increment the count variable by 1 to keep track of the number of numbers printed.\n",
    "        if count%10==0: # If count is a multiple of 10, it means that 10 numbers have been printed on the current line.\n",
    "                print() #so we print a newline character print() to start a new line."
   ]
  },
  {
   "cell_type": "code",
   "execution_count": 8,
   "id": "80f61d5a",
   "metadata": {},
   "outputs": [
    {
     "name": "stdout",
     "output_type": "stream",
     "text": [
      "120 150 180 210 240 270 300 330 360 390\n",
      "420 450 480 510 540 570 600 630 660 690\n",
      "720 750 780 810 840 870 900 930 960 990\n"
     ]
    }
   ],
   "source": [
    "#This is one more way to solve the above problem.\n",
    "count = 1\n",
    "for i in range(100,1001):\n",
    "    if i % 5==0 and i % 6 ==0:\n",
    "        if count%10 != 0:\n",
    "            print(i, end = \" \")\n",
    "        else:\n",
    "            print(i)\n",
    "        count = count+1"
   ]
  },
  {
   "cell_type": "markdown",
   "id": "f401a147",
   "metadata": {},
   "source": [
    "#### Write a program that prompts the user to enter the number of students and each student’s score, and displays the highest score"
   ]
  },
  {
   "cell_type": "code",
   "execution_count": 11,
   "id": "8af6bf8e",
   "metadata": {},
   "outputs": [
    {
     "name": "stdout",
     "output_type": "stream",
     "text": [
      "Enter number of students  3\n",
      "Enter name of student  jay\n",
      "Enter score of student  10\n",
      "Enter name of student  shree\n",
      "Enter score of student  20\n",
      "Enter name of student  ram\n",
      "Enter score of student  16\n",
      "shree is the highest scorer with score  20\n"
     ]
    }
   ],
   "source": [
    "# Method 1\n",
    "students=int(input(\"Enter number of students  \"))\n",
    "name=input(\"Enter name of student  \")\n",
    "score=int(input(\"Enter score of student  \"))\n",
    "for i in range(students-1):\n",
    "    name_1=input(\"Enter name of student  \")\n",
    "    score_1=int(input(\"Enter score of student  \"))\n",
    "    if score_1 > score:\n",
    "        score=score_1\n",
    "        name=name_1\n",
    "print(name ,\"is the highest scorer with score \",score)"
   ]
  },
  {
   "cell_type": "code",
   "execution_count": 12,
   "id": "922e85aa",
   "metadata": {},
   "outputs": [
    {
     "name": "stdout",
     "output_type": "stream",
     "text": [
      "Enter number of students  3\n",
      "Enter name of student  a\n",
      "Enter score of student  19\n",
      "Enter name of student  b\n",
      "Enter score of student  12\n",
      "Enter name of student  c\n",
      "Enter score of student  17\n",
      "a is the highest scorer with score  19\n"
     ]
    }
   ],
   "source": [
    "#Method 2\n",
    "students=int(input(\"Enter number of students  \"))\n",
    "score=0\n",
    "name=\"\"\n",
    "for i in range(students):\n",
    "    name_1=input(\"Enter name of student  \")\n",
    "    score_1=int(input(\"Enter score of student  \"))\n",
    "    if score_1 > score:\n",
    "        score=score_1\n",
    "        name=name_1\n",
    "print(name ,\"is the highest scorer with score \",score)"
   ]
  },
  {
   "cell_type": "markdown",
   "id": "1ecf115d",
   "metadata": {},
   "source": [
    "#### Using a while loop find even and odd number form a  given list."
   ]
  },
  {
   "cell_type": "code",
   "execution_count": 12,
   "id": "1a950a32",
   "metadata": {},
   "outputs": [],
   "source": [
    "numbers=[19,24,3,12,56,4,23,10,2,17,101]"
   ]
  },
  {
   "cell_type": "code",
   "execution_count": 13,
   "id": "7282250b",
   "metadata": {},
   "outputs": [
    {
     "data": {
      "text/plain": [
       "True"
      ]
     },
     "execution_count": 13,
     "metadata": {},
     "output_type": "execute_result"
    }
   ],
   "source": [
    " len(numbers) < len(numbers)+1"
   ]
  },
  {
   "cell_type": "code",
   "execution_count": 15,
   "id": "1fcdec7c",
   "metadata": {},
   "outputs": [
    {
     "name": "stdout",
     "output_type": "stream",
     "text": [
      "19  is odd number\n",
      "24  is even number\n",
      "3  is odd number\n",
      "12  is even number\n",
      "56  is even number\n",
      "4  is even number\n",
      "23  is odd number\n",
      "10  is even number\n",
      "2  is even number\n",
      "17  is odd number\n",
      "101  is odd number\n"
     ]
    }
   ],
   "source": [
    "i=0\n",
    "while i < len(numbers):\n",
    "    if numbers[i] % 2==0:\n",
    "        print(numbers[i] ,\" is even number\")\n",
    "    else:\n",
    "        print(numbers[i] ,\" is odd number\")\n",
    "    i+=1\n",
    "    \n"
   ]
  },
  {
   "cell_type": "markdown",
   "id": "dd634a28",
   "metadata": {},
   "source": [
    "#### Write a Python Program to Find the Sum of Natural Numbers?"
   ]
  },
  {
   "cell_type": "code",
   "execution_count": 7,
   "id": "92228d7d",
   "metadata": {},
   "outputs": [
    {
     "name": "stdout",
     "output_type": "stream",
     "text": [
      "1275\n"
     ]
    }
   ],
   "source": [
    "numbers=1\n",
    "sum=0\n",
    "limit=50\n",
    "while numbers<= limit:\n",
    "    sum+=numbers\n",
    "    numbers+=1\n",
    "print(sum)"
   ]
  },
  {
   "cell_type": "markdown",
   "id": "e791d922",
   "metadata": {},
   "source": [
    "#### Write a program that reads an integer and displays all its smallest factors, also known as prime factors.\n",
    "#### For example, if the input integer is 120, the output should be as follows: 2 2 2 3 5"
   ]
  },
  {
   "cell_type": "code",
   "execution_count": 5,
   "id": "3edae2e6",
   "metadata": {},
   "outputs": [
    {
     "name": "stdout",
     "output_type": "stream",
     "text": [
      "120\n",
      "[2, 2, 2, 3, 5]\n"
     ]
    }
   ],
   "source": [
    "a = int(input())\n",
    "b = 2\n",
    "l=[]\n",
    "while b<=a:\n",
    "    if a%b==0:\n",
    "        c = a/b\n",
    "        a = c\n",
    "        l.append(b)\n",
    "    else:\n",
    "        b = b+1\n",
    "print(l)\n"
   ]
  },
  {
   "cell_type": "markdown",
   "id": "65a6a15f",
   "metadata": {},
   "source": [
    "#### Write a Program to check whether the number is Armstrong or not?\n",
    "\n",
    "An Armstrong number (also known as a narcissistic number or a pluperfect digital invariant) is a specific type of number in mathematics. It's a number that is equal to the sum of its own digits, each raised to the power of the number of digits in that number. \n",
    "\n",
    "For example:\n",
    "\n",
    "153 is an Armstrong number because 1^3 + 5^3 + 3^3 = 153.\n",
    "\n",
    "9474 is an Armstrong number because 9^4 + 4^4 + 7^4 + 4^4 = 9474."
   ]
  },
  {
   "cell_type": "code",
   "execution_count": 10,
   "id": "07c441b2",
   "metadata": {},
   "outputs": [
    {
     "name": "stdout",
     "output_type": "stream",
     "text": [
      "Enter the number for which you want the number is armstrong number  9474\n",
      "Enter the power (e.g., 3 for cubes): 4\n",
      "9474  is a armstrong number \n"
     ]
    }
   ],
   "source": [
    "number=int(input(\"Enter the number for which you want the number is armstrong number  \"))\n",
    "power = int(input(\"Enter the power (e.g., 3 for cubes): \"))\n",
    "temp=number\n",
    "sum_1=0\n",
    "while temp>0:\n",
    "    digit=temp%10\n",
    "    sum_1=sum_1+digit**power\n",
    "    temp=temp//10\n",
    "if sum_1==number:\n",
    "    print(number,\" is a armstrong number \")\n",
    "else:\n",
    "    print(number,\" is not a armstrong number \")"
   ]
  },
  {
   "cell_type": "markdown",
   "id": "26a7222f",
   "metadata": {},
   "source": [
    "#### Python Program to Find LCM between two numbers."
   ]
  },
  {
   "cell_type": "code",
   "execution_count": 2,
   "id": "d4ce05d8",
   "metadata": {},
   "outputs": [
    {
     "name": "stdout",
     "output_type": "stream",
     "text": [
      "Enter the first number 12\n",
      "Enter the second number 36\n",
      "The LCM of 12 and 36 is 36\n"
     ]
    }
   ],
   "source": [
    "a=int(input(\"Enter the first number \"))\n",
    "b=int(input(\"Enter the second number \"))\n",
    "max_num= max(a,b)\n",
    "while (True):\n",
    "    if max_num%a==0 and max_num%b==0:\n",
    "        break\n",
    "    max_num += 1  # Update max_num by 1 in each iteration\n",
    "\n",
    "print(\"The LCM of\", a ,\"and\", b ,\"is\", max_num)"
   ]
  },
  {
   "cell_type": "markdown",
   "id": "50b7bf0e",
   "metadata": {},
   "source": [
    "### Break Statements\n",
    "\n",
    "In Python, the break statement is used to exit or terminate a loop prematurely, before the loop's normal termination condition is met. It is often used in situations where you want to exit a loop early based on some condition."
   ]
  },
  {
   "cell_type": "code",
   "execution_count": 4,
   "id": "64aa1a0e",
   "metadata": {},
   "outputs": [
    {
     "name": "stdout",
     "output_type": "stream",
     "text": [
      "count: 0\n",
      "count: 1\n",
      "count: 2\n",
      "count: 3\n",
      "count: 4\n",
      "count: 5\n",
      "count: 6\n",
      "count: 7\n",
      "count: 8\n"
     ]
    }
   ],
   "source": [
    "count=0\n",
    "while count < 10:\n",
    "    print(\"count:\", count)\n",
    "    count += 1 \n",
    "    if count == 9: #When count becomes 9,condition becomes true.Once the condition is true, the break statement is executed.\n",
    "        break      #This immediately exits the while loop, even though the loop condition (count < 10) would still be true.\n",
    "                   #As a result, the loop is terminated, and \"count: 9\" is not printed."
   ]
  },
  {
   "cell_type": "markdown",
   "id": "b94f4456",
   "metadata": {},
   "source": [
    "### Continue Statements\n",
    "\n",
    "In Python, the continue statement is used to skip the rest of the current iteration of a loop (typically a for or while loop) and move to the next iteration. It allows you to bypass specific code within the loop for certain conditions without exiting the entire loop."
   ]
  },
  {
   "cell_type": "code",
   "execution_count": 4,
   "id": "e9fd27ea",
   "metadata": {},
   "outputs": [
    {
     "name": "stdout",
     "output_type": "stream",
     "text": [
      "count: 1\n",
      "count: 2\n",
      "count: 3\n",
      "count: 4\n",
      "count: 5\n",
      "count: 6\n",
      "count: 8\n",
      "count: 9\n",
      "count: 10\n"
     ]
    }
   ],
   "source": [
    "count=0\n",
    "while count < 10:\n",
    "    count += 1 \n",
    "    if count == 7: \n",
    "        continue \n",
    "    print(\"count:\", count)\n",
    "#When count becomes 7,condition becomes true.\n",
    "#When the condition is true, the continue statement is executed.\n",
    "#This causes the loop to immediately move to the next iteration, skipping the remaining code in the current iteration.\n",
    "#As a result, \"count: 7\" is not printed, and the loop continues with count set to 8.\n",
    "#The loop continues until count reaches 10, at which point the loop condition (count < 10) becomes false, and the loop terminates."
   ]
  },
  {
   "cell_type": "markdown",
   "id": "2fa932e0",
   "metadata": {},
   "source": [
    "# Functions"
   ]
  },
  {
   "cell_type": "markdown",
   "id": "6175d06c",
   "metadata": {},
   "source": [
    "Function:-In Python, a function is a reusable block of code that performs a specific task or set of tasks. Functions are used to organize code into logical and modular units, making it easier to understand, reuse, and maintain your code.\n",
    "\n",
    "Functions are defined using the 'def' keyword followed by a name and parentheses containing any input parameters.\n",
    "\n",
    "Parameters are optional, and they represent values that can be passed into the function.\n",
    "\n",
    "Functions can optionally return a result using the 'return' statement. If no 'return' statement is used, the function returns 'None' by default.\n",
    "\n",
    "Functions can be reused multiple times in your code, promoting code reusability and readability\n",
    "\n",
    "Functions help break down a program into smaller, manageable parts, making code organization and maintenance easier,\n"
   ]
  },
  {
   "cell_type": "code",
   "execution_count": null,
   "id": "2439469f",
   "metadata": {},
   "outputs": [],
   "source": [
    "#Syntax to write a Function:-\n",
    "\n",
    "def function_name(parameters):\n",
    "    # Function body or code block\n",
    "    # ...\n",
    "    return result  # Optional return statement\n"
   ]
  },
  {
   "cell_type": "code",
   "execution_count": 72,
   "id": "e76b004a",
   "metadata": {},
   "outputs": [],
   "source": [
    "def shriya_s(list_of_num):\n",
    "    for i in list_of_num:   \n",
    "        if i%2==0 and i%5==0:\n",
    "            print(i, \"gets blue t-shirt\")\n",
    "        else:\n",
    "            print(i, \"gets no t-shirt\")"
   ]
  },
  {
   "cell_type": "code",
   "execution_count": 73,
   "id": "726cf821",
   "metadata": {},
   "outputs": [
    {
     "name": "stdout",
     "output_type": "stream",
     "text": [
      "1 gets no t-shirt\n",
      "2 gets no t-shirt\n",
      "12 gets no t-shirt\n",
      "14 gets no t-shirt\n",
      "13 gets no t-shirt\n",
      "10 gets blue t-shirt\n",
      "20 gets blue t-shirt\n",
      "25 gets no t-shirt\n",
      "30 gets blue t-shirt\n",
      "35 gets no t-shirt\n",
      "40 gets blue t-shirt\n"
     ]
    }
   ],
   "source": [
    "shriya_s([1,2,12,14,13,10,20,25,30,35,40])"
   ]
  },
  {
   "cell_type": "markdown",
   "id": "a929e823",
   "metadata": {},
   "source": [
    "#### A lambda function is a small, anonymous (unnamed) function defined using the lambda keyword. Lambda functions are also sometimes referred to as \"anonymous functions\" or \"lambda expressions.\" Unlike regular functions defined with the def keyword, lambda functions are typically used for short, simple operations.\n",
    "\n",
    "Syntax:-\n",
    "     \n",
    "     lambda arguments: expression\n"
   ]
  },
  {
   "cell_type": "code",
   "execution_count": 44,
   "id": "66f433da",
   "metadata": {},
   "outputs": [
    {
     "name": "stdout",
     "output_type": "stream",
     "text": [
      "8\n"
     ]
    }
   ],
   "source": [
    "add = lambda x,y: x + y\n",
    "result = add(3, 5)  # Calls the lambda function with arguments 3 and 5\n",
    "print(result)  # Prints 8"
   ]
  },
  {
   "cell_type": "code",
   "execution_count": 38,
   "id": "09b30a73",
   "metadata": {},
   "outputs": [],
   "source": [
    "even = lambda x:x%2==0"
   ]
  },
  {
   "cell_type": "code",
   "execution_count": 39,
   "id": "323fc520",
   "metadata": {},
   "outputs": [
    {
     "data": {
      "text/plain": [
       "True"
      ]
     },
     "execution_count": 39,
     "metadata": {},
     "output_type": "execute_result"
    }
   ],
   "source": [
    "even(8)"
   ]
  },
  {
   "cell_type": "markdown",
   "id": "f69e4025",
   "metadata": {},
   "source": [
    "#### Given a list of ints, return True if the array contains a 3 next to a 3 somewhere.\n"
   ]
  },
  {
   "cell_type": "code",
   "execution_count": 41,
   "id": "1fee21ff",
   "metadata": {},
   "outputs": [],
   "source": [
    "#Functions is initialized by using def keyword.\n",
    "def shriya_1(list_1):\n",
    "    for i in range(len(list_1)-1):\n",
    "        if list_1[i]==3 and list_1[i+1]==3:\n",
    "            return True\n",
    "        "
   ]
  },
  {
   "cell_type": "code",
   "execution_count": 42,
   "id": "34287c98",
   "metadata": {},
   "outputs": [
    {
     "data": {
      "text/plain": [
       "True"
      ]
     },
     "execution_count": 42,
     "metadata": {},
     "output_type": "execute_result"
    }
   ],
   "source": [
    "shriya_1([1,2,3,3,4,6,56,3,3])"
   ]
  },
  {
   "cell_type": "code",
   "execution_count": 11,
   "id": "d53142ce",
   "metadata": {},
   "outputs": [
    {
     "data": {
      "text/plain": [
       "function"
      ]
     },
     "execution_count": 11,
     "metadata": {},
     "output_type": "execute_result"
    }
   ],
   "source": [
    "type(shriya_1)"
   ]
  },
  {
   "cell_type": "code",
   "execution_count": 45,
   "id": "62a0ccfe",
   "metadata": {},
   "outputs": [],
   "source": [
    "def shriya_3(ls):\n",
    "    for i in range(len(ls) - 1):\n",
    "        if ls[i] == 3 and ls[i+1] == 3:\n",
    "            return True\n",
    "    return False"
   ]
  },
  {
   "cell_type": "code",
   "execution_count": 56,
   "id": "bc5e4678",
   "metadata": {},
   "outputs": [
    {
     "name": "stdout",
     "output_type": "stream",
     "text": [
      "2 34\n",
      "34 5\n"
     ]
    },
    {
     "ename": "IndexError",
     "evalue": "list index out of range",
     "output_type": "error",
     "traceback": [
      "\u001b[1;31m---------------------------------------------------------------------------\u001b[0m",
      "\u001b[1;31mIndexError\u001b[0m                                Traceback (most recent call last)",
      "Cell \u001b[1;32mIn[56], line 3\u001b[0m\n\u001b[0;32m      1\u001b[0m list1 \u001b[38;5;241m=\u001b[39m [\u001b[38;5;241m1\u001b[39m,\u001b[38;5;241m2\u001b[39m,\u001b[38;5;241m34\u001b[39m,\u001b[38;5;241m5\u001b[39m,\u001b[38;5;241m6\u001b[39m,\u001b[38;5;241m7\u001b[39m]\n\u001b[0;32m      2\u001b[0m \u001b[38;5;28;01mfor\u001b[39;00m i \u001b[38;5;129;01min\u001b[39;00m list1:\n\u001b[1;32m----> 3\u001b[0m     \u001b[38;5;28mprint\u001b[39m(list1[i], list1[i\u001b[38;5;241m+\u001b[39m\u001b[38;5;241m1\u001b[39m])\n",
      "\u001b[1;31mIndexError\u001b[0m: list index out of range"
     ]
    }
   ],
   "source": [
    "list1 = [1,2,34,5,6,7]\n",
    "for i in list1:\n",
    "    print(list1[i], list1[i+1])\n",
    "#Hence the first two iteration are possible because the value is 1 and 2 which will give the index value at 1 and 2 since it is present but in 3rd iteration the value is 34 and there's no element at index 34 in the list, so this will raise an \"IndexError\" because it's trying to access an element that doesn't exist."
   ]
  },
  {
   "cell_type": "code",
   "execution_count": 71,
   "id": "57e26a36",
   "metadata": {},
   "outputs": [
    {
     "name": "stdout",
     "output_type": "stream",
     "text": [
      "2 3\n",
      "3 4\n",
      "4 5\n",
      "5 67\n"
     ]
    }
   ],
   "source": [
    "#To avoid the \"IndexError\" and to correctly print pairs of consecutive elements from the list, we should use this  approach.\n",
    "#This code will iterate through the indices of the list and print pairs of elements correctly.\n",
    "\n",
    "list2=[2,3,4,5,67]\n",
    "len(list2)\n",
    "for i in range(len(list2)-1):\n",
    "        print (list2[i],list2[i+1])"
   ]
  },
  {
   "cell_type": "code",
   "execution_count": 49,
   "id": "35905526",
   "metadata": {},
   "outputs": [
    {
     "name": "stdout",
     "output_type": "stream",
     "text": [
      "s\n",
      "h\n",
      "r\n",
      "i\n",
      "y\n",
      "a\n"
     ]
    }
   ],
   "source": [
    "#The below code will prints each element of the string.\n",
    "for i in 'shriya':\n",
    "    print(i)"
   ]
  },
  {
   "cell_type": "code",
   "execution_count": 38,
   "id": "7bea11b9",
   "metadata": {},
   "outputs": [
    {
     "name": "stdout",
     "output_type": "stream",
     "text": [
      "s 0\n",
      "h 1\n",
      "r 2\n",
      "i 3\n",
      "y 4\n",
      "a 5\n"
     ]
    }
   ],
   "source": [
    "#The below code prints each element of the string along with its corresponding index.\n",
    "a='shriya'\n",
    "for i in range(len(a)):\n",
    "    print(a[i],i)"
   ]
  },
  {
   "cell_type": "code",
   "execution_count": 80,
   "id": "2b22e9e4",
   "metadata": {},
   "outputs": [
    {
     "name": "stdout",
     "output_type": "stream",
     "text": [
      "0 1\n",
      "1 2\n",
      "2 3\n",
      "3 4\n",
      "4 5\n",
      "5 6\n"
     ]
    }
   ],
   "source": [
    "#The below code prints each element of the list along with its corresponding index.\n",
    "b=[1,2,3,4,5,6]\n",
    "for i in range(len(b)):\n",
    "    print(i,b[i])"
   ]
  },
  {
   "cell_type": "markdown",
   "id": "7e13eaff",
   "metadata": {},
   "source": [
    "#### Write a program that will prints all possible permutations of the elements from the given list without repetitions"
   ]
  },
  {
   "cell_type": "code",
   "execution_count": 1,
   "id": "29a6df01",
   "metadata": {},
   "outputs": [
    {
     "name": "stdout",
     "output_type": "stream",
     "text": [
      "1 2 3\n",
      "1 3 2\n",
      "2 1 3\n",
      "2 3 1\n",
      "3 1 2\n",
      "3 2 1\n"
     ]
    }
   ],
   "source": [
    "my_list=[1,2,3]\n",
    "for i in range(len(my_list)):\n",
    "    for j in range(len(my_list)):\n",
    "        for k in range(len(my_list)):\n",
    "            if i!=j and j!=k and k!=i:\n",
    "                print(my_list[i],my_list[j],my_list[k])\n",
    "    "
   ]
  },
  {
   "cell_type": "code",
   "execution_count": null,
   "id": "02bb72fd",
   "metadata": {},
   "outputs": [],
   "source": []
  }
 ],
 "metadata": {
  "kernelspec": {
   "display_name": "Python 3 (ipykernel)",
   "language": "python",
   "name": "python3"
  },
  "language_info": {
   "codemirror_mode": {
    "name": "ipython",
    "version": 3
   },
   "file_extension": ".py",
   "mimetype": "text/x-python",
   "name": "python",
   "nbconvert_exporter": "python",
   "pygments_lexer": "ipython3",
   "version": "3.11.3"
  }
 },
 "nbformat": 4,
 "nbformat_minor": 5
}
